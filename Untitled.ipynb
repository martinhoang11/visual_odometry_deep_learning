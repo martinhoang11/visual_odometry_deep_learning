{
 "cells": [
  {
   "cell_type": "code",
   "execution_count": 1,
   "metadata": {},
   "outputs": [],
   "source": [
    "from KITTIDataset import KITTIDataset"
   ]
  },
  {
   "cell_type": "code",
   "execution_count": null,
   "metadata": {},
   "outputs": [],
   "source": [
    "train_seq = [0, 1, 2, 8, 9]\n",
    "train_startFrames = [0, 0, 0, 0, 0]\n",
    "train_endFrames = [4540, 1100, 4660, 4070, 1590]\n",
    "val_seq = [3, 4, 5, 6, 7, 10]\n",
    "val_startFrames = [0, 0, 0, 0, 0]\n",
    "val_endFrames = [800, 270, 2760, 1100, 1100, 1200]\n",
    "\n",
    "train_set = KITTIDataset(datadir,\n",
    "                         sequences=train_seq,\n",
    "                         sequence_len=config.seq_len,\n",
    "                         start_frames=train_startFrames, end_frames=train_endFrames,\n",
    "                         parameterization=config.outputParameterization,\n",
    "                         width=config.img_w, height=config.img_h)"
   ]
  },
  {
   "cell_type": "code",
   "execution_count": 3,
   "metadata": {},
   "outputs": [],
   "source": [
    "import numpy as np"
   ]
  },
  {
   "cell_type": "code",
   "execution_count": 5,
   "metadata": {},
   "outputs": [],
   "source": [
    "a = np.array([1, 2, 3, 4, 5, 6, 7, 8, 9, 10, 11, 12])"
   ]
  },
  {
   "cell_type": "code",
   "execution_count": 6,
   "metadata": {},
   "outputs": [
    {
     "data": {
      "text/plain": [
       "array([[ 1,  2,  3,  4],\n",
       "       [ 5,  6,  7,  8],\n",
       "       [ 9, 10, 11, 12]])"
      ]
     },
     "execution_count": 6,
     "metadata": {},
     "output_type": "execute_result"
    }
   ],
   "source": [
    "a.reshape(3, 4)"
   ]
  },
  {
   "cell_type": "code",
   "execution_count": null,
   "metadata": {},
   "outputs": [],
   "source": []
  }
 ],
 "metadata": {
  "kernelspec": {
   "display_name": "Python 3",
   "language": "python",
   "name": "python3"
  },
  "language_info": {
   "codemirror_mode": {
    "name": "ipython",
    "version": 3
   },
   "file_extension": ".py",
   "mimetype": "text/x-python",
   "name": "python",
   "nbconvert_exporter": "python",
   "pygments_lexer": "ipython3",
   "version": "3.7.9"
  }
 },
 "nbformat": 4,
 "nbformat_minor": 4
}
